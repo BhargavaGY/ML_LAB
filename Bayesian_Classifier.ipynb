{
  "nbformat": 4,
  "nbformat_minor": 0,
  "metadata": {
    "colab": {
      "provenance": [],
      "authorship_tag": "ABX9TyOAzZWZZxFToMsKjaE8OJrj",
      "include_colab_link": true
    },
    "kernelspec": {
      "name": "python3",
      "display_name": "Python 3"
    },
    "language_info": {
      "name": "python"
    }
  },
  "cells": [
    {
      "cell_type": "markdown",
      "metadata": {
        "id": "view-in-github",
        "colab_type": "text"
      },
      "source": [
        "<a href=\"https://colab.research.google.com/github/BhargavaGY/ML_LAB/blob/main/Bayesian_Classifier.ipynb\" target=\"_parent\"><img src=\"https://colab.research.google.com/assets/colab-badge.svg\" alt=\"Open In Colab\"/></a>"
      ]
    },
    {
      "cell_type": "code",
      "execution_count": 1,
      "metadata": {
        "id": "btMxx77LxOQv"
      },
      "outputs": [],
      "source": [
        "import pandas as pd\n",
        "from sklearn.model_selection import train_test_split\n",
        "from sklearn.naive_bayes import GaussianNB\n",
        "from sklearn import metrics"
      ]
    },
    {
      "cell_type": "code",
      "source": [
        "df = pd.read_csv(\"pima_indian.csv\")\n",
        "feature_col_names = ['num_preg', 'glucose_conc', 'diastolic_bp', 'thickness', 'insulin', 'bmi', 'diab_pred', 'age']\n",
        "predicted_class_names = ['diabetes']\n"
      ],
      "metadata": {
        "id": "QnQhqaEPxrkJ"
      },
      "execution_count": 2,
      "outputs": []
    },
    {
      "cell_type": "code",
      "source": [
        "X = df[feature_col_names].values \n",
        "y = df[predicted_class_names].values"
      ],
      "metadata": {
        "id": "rwobOfPrye3v"
      },
      "execution_count": 3,
      "outputs": []
    },
    {
      "cell_type": "code",
      "source": [
        "print(df.head)\n",
        "xtrain,xtest,ytrain,ytest=train_test_split(X,y,test_size=0.33)\n",
        "\n",
        "print ('\\n the total number of Training Data :',ytrain.shape)\n",
        "print ('\\n the total number of Test Data :',ytest.shape)\n"
      ],
      "metadata": {
        "colab": {
          "base_uri": "https://localhost:8080/"
        },
        "id": "9a97gpAEyna3",
        "outputId": "e24d0c70-4c99-484d-c93b-defe2b54449f"
      },
      "execution_count": 4,
      "outputs": [
        {
          "output_type": "stream",
          "name": "stdout",
          "text": [
            "<bound method NDFrame.head of      num_preg  glucose_conc  diastolic_bp  thickness  insulin   bmi  \\\n",
            "0           6           148            72         35        0  33.6   \n",
            "1           1            85            66         29        0  26.6   \n",
            "2           8           183            64          0        0  23.3   \n",
            "3           1            89            66         23       94  28.1   \n",
            "4           0           137            40         35      168  43.1   \n",
            "..        ...           ...           ...        ...      ...   ...   \n",
            "763        10           101            76         48      180  32.9   \n",
            "764         2           122            70         27        0  36.8   \n",
            "765         5           121            72         23      112  26.2   \n",
            "766         1           126            60          0        0  30.1   \n",
            "767         1            93            70         31        0  30.4   \n",
            "\n",
            "     diab_pred  age  diabetes  \n",
            "0        0.627   50         1  \n",
            "1        0.351   31         0  \n",
            "2        0.672   32         1  \n",
            "3        0.167   21         0  \n",
            "4        2.288   33         1  \n",
            "..         ...  ...       ...  \n",
            "763      0.171   63         0  \n",
            "764      0.340   27         0  \n",
            "765      0.245   30         0  \n",
            "766      0.349   47         1  \n",
            "767      0.315   23         0  \n",
            "\n",
            "[768 rows x 9 columns]>\n",
            "\n",
            " the total number of Training Data : (514, 1)\n",
            "\n",
            " the total number of Test Data : (254, 1)\n"
          ]
        }
      ]
    },
    {
      "cell_type": "code",
      "source": [
        "ytrain.ravel().shape"
      ],
      "metadata": {
        "colab": {
          "base_uri": "https://localhost:8080/"
        },
        "id": "djhRASlo3Kb1",
        "outputId": "eb9757b0-2cae-449a-c543-a9a30ed6a009"
      },
      "execution_count": 5,
      "outputs": [
        {
          "output_type": "execute_result",
          "data": {
            "text/plain": [
              "(514,)"
            ]
          },
          "metadata": {},
          "execution_count": 5
        }
      ]
    },
    {
      "cell_type": "code",
      "source": [
        "clf = GaussianNB().fit(xtrain,ytrain.ravel())\n",
        "predicted = clf.predict(xtest)\n",
        "predictTestData= clf.predict([[6,148,72,35,0,33.6,0.627,50]])"
      ],
      "metadata": {
        "id": "MIC6Snisyxwm"
      },
      "execution_count": 6,
      "outputs": []
    },
    {
      "cell_type": "code",
      "source": [
        "print('\\n Accuracy of the classifier is',metrics.accuracy_score(ytest,predicted))\n",
        "\n",
        "print('\\n The value of Precision', metrics.precision_score(ytest,predicted))\n",
        "\n",
        "print('\\n The value of Recall', metrics.recall_score(ytest,predicted))\n",
        "\n",
        "print(\"Predicted Value for individual Test Data:\", predictTestData)\n"
      ],
      "metadata": {
        "colab": {
          "base_uri": "https://localhost:8080/"
        },
        "id": "ozVgVEAvy9zV",
        "outputId": "21b70cbf-0fbf-4c45-f1bd-cb446f893340"
      },
      "execution_count": 7,
      "outputs": [
        {
          "output_type": "stream",
          "name": "stdout",
          "text": [
            "\n",
            " Accuracy of the classifier is 0.7677165354330708\n",
            "\n",
            " The value of Precision 0.7564102564102564\n",
            "\n",
            " The value of Recall 0.5959595959595959\n",
            "Predicted Value for individual Test Data: [1]\n"
          ]
        }
      ]
    },
    {
      "cell_type": "code",
      "source": [],
      "metadata": {
        "id": "9FvDYDpVHJ4f"
      },
      "execution_count": null,
      "outputs": []
    }
  ]
}